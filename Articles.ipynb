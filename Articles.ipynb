{
 "cells": [
  {
   "cell_type": "code",
   "execution_count": null,
   "metadata": {},
   "outputs": [],
   "source": [
    "#Se deben instalar los paquetes que se utilizan a continuación y descargar un controlador de Chrome para visualizar mejor \n",
    "#los resultados obtenidos de acuerdo con las estructuras de la página."
   ]
  },
  {
   "cell_type": "code",
   "execution_count": 8,
   "metadata": {},
   "outputs": [],
   "source": [
    "from selenium.webdriver.common.keys import Keys\n",
    "from selenium import webdriver\n",
    "from bs4 import BeautifulSoup as bs\n",
    "from requests import session\n",
    "import time\n",
    "import pandas as pd\n",
    "\n",
    "#Se utiliza Selenium debido a que incorpora herramientas para automatizar la espera en la carga de la página, evitando los TimeSleep\n",
    "\n",
    "from selenium.webdriver.common.by import By\n",
    "from selenium.webdriver.support.ui import WebDriverWait\n",
    "from selenium.webdriver.support import expected_conditions as EC\n",
    "from selenium.common.exceptions import TimeoutException\n",
    "from selenium.common.exceptions import NoSuchElementException\n",
    "from selenium.common.exceptions import StaleElementReferenceException"
   ]
  },
  {
   "cell_type": "code",
   "execution_count": 10,
   "metadata": {},
   "outputs": [
    {
     "ename": "WebDriverException",
     "evalue": "Message: unknown error: Element <span class=\"ui-selectmenu-icon ui-icon btn-primary btn-icon ico-navigate-down flexDisplay flexAlignCenter flexJustifyCenter\"></span> is not clickable at point (181, 407). Other element would receive the click: <html lang=\"en_US\">...</html>\n  (Session info: chrome=68.0.3440.106)\n  (Driver info: chromedriver=2.41.578706 (5f725d1b4f0a4acbf5259df887244095596231db),platform=Mac OS X 10.13.4 x86_64)\n",
     "output_type": "error",
     "traceback": [
      "\u001b[0;31m---------------------------------------------------------------------------\u001b[0m",
      "\u001b[0;31mWebDriverException\u001b[0m                        Traceback (most recent call last)",
      "\u001b[0;32m<ipython-input-10-7464d79760d0>\u001b[0m in \u001b[0;36m<module>\u001b[0;34m()\u001b[0m\n\u001b[1;32m     40\u001b[0m         \u001b[0;31m#las páginas\u001b[0m\u001b[0;34m\u001b[0m\u001b[0;34m\u001b[0m\u001b[0m\n\u001b[1;32m     41\u001b[0m         \u001b[0mobjeto\u001b[0m \u001b[0;34m=\u001b[0m \u001b[0mespera\u001b[0m\u001b[0;34m.\u001b[0m\u001b[0muntil\u001b[0m\u001b[0;34m(\u001b[0m\u001b[0mEC\u001b[0m\u001b[0;34m.\u001b[0m\u001b[0melement_to_be_clickable\u001b[0m\u001b[0;34m(\u001b[0m\u001b[0;34m(\u001b[0m\u001b[0mBy\u001b[0m\u001b[0;34m.\u001b[0m\u001b[0mXPATH\u001b[0m\u001b[0;34m,\u001b[0m\u001b[0;34m'//*[@id=\"resultsPerPage-button\"]/span[1]'\u001b[0m\u001b[0;34m)\u001b[0m\u001b[0;34m)\u001b[0m\u001b[0;34m)\u001b[0m\u001b[0;34m\u001b[0m\u001b[0m\n\u001b[0;32m---> 42\u001b[0;31m         \u001b[0mobjeto\u001b[0m\u001b[0;34m.\u001b[0m\u001b[0mclick\u001b[0m\u001b[0;34m(\u001b[0m\u001b[0;34m)\u001b[0m\u001b[0;34m\u001b[0m\u001b[0m\n\u001b[0m\u001b[1;32m     43\u001b[0m         \u001b[0mobjeto\u001b[0m \u001b[0;34m=\u001b[0m \u001b[0mespera\u001b[0m\u001b[0;34m.\u001b[0m\u001b[0muntil\u001b[0m\u001b[0;34m(\u001b[0m\u001b[0mEC\u001b[0m\u001b[0;34m.\u001b[0m\u001b[0melement_to_be_clickable\u001b[0m\u001b[0;34m(\u001b[0m\u001b[0;34m(\u001b[0m\u001b[0mBy\u001b[0m\u001b[0;34m.\u001b[0m\u001b[0mXPATH\u001b[0m\u001b[0;34m,\u001b[0m\u001b[0;34m'//*[@id=\"ui-id-12\"]'\u001b[0m\u001b[0;34m)\u001b[0m\u001b[0;34m)\u001b[0m\u001b[0;34m)\u001b[0m\u001b[0;34m\u001b[0m\u001b[0m\n\u001b[1;32m     44\u001b[0m         \u001b[0mtime\u001b[0m\u001b[0;34m.\u001b[0m\u001b[0msleep\u001b[0m\u001b[0;34m(\u001b[0m\u001b[0;36m10\u001b[0m\u001b[0;34m)\u001b[0m\u001b[0;34m\u001b[0m\u001b[0m\n",
      "\u001b[0;32m~/anaconda3/lib/python3.6/site-packages/selenium/webdriver/remote/webelement.py\u001b[0m in \u001b[0;36mclick\u001b[0;34m(self)\u001b[0m\n\u001b[1;32m     78\u001b[0m     \u001b[0;32mdef\u001b[0m \u001b[0mclick\u001b[0m\u001b[0;34m(\u001b[0m\u001b[0mself\u001b[0m\u001b[0;34m)\u001b[0m\u001b[0;34m:\u001b[0m\u001b[0;34m\u001b[0m\u001b[0m\n\u001b[1;32m     79\u001b[0m         \u001b[0;34m\"\"\"Clicks the element.\"\"\"\u001b[0m\u001b[0;34m\u001b[0m\u001b[0m\n\u001b[0;32m---> 80\u001b[0;31m         \u001b[0mself\u001b[0m\u001b[0;34m.\u001b[0m\u001b[0m_execute\u001b[0m\u001b[0;34m(\u001b[0m\u001b[0mCommand\u001b[0m\u001b[0;34m.\u001b[0m\u001b[0mCLICK_ELEMENT\u001b[0m\u001b[0;34m)\u001b[0m\u001b[0;34m\u001b[0m\u001b[0m\n\u001b[0m\u001b[1;32m     81\u001b[0m \u001b[0;34m\u001b[0m\u001b[0m\n\u001b[1;32m     82\u001b[0m     \u001b[0;32mdef\u001b[0m \u001b[0msubmit\u001b[0m\u001b[0;34m(\u001b[0m\u001b[0mself\u001b[0m\u001b[0;34m)\u001b[0m\u001b[0;34m:\u001b[0m\u001b[0;34m\u001b[0m\u001b[0m\n",
      "\u001b[0;32m~/anaconda3/lib/python3.6/site-packages/selenium/webdriver/remote/webelement.py\u001b[0m in \u001b[0;36m_execute\u001b[0;34m(self, command, params)\u001b[0m\n\u001b[1;32m    626\u001b[0m             \u001b[0mparams\u001b[0m \u001b[0;34m=\u001b[0m \u001b[0;34m{\u001b[0m\u001b[0;34m}\u001b[0m\u001b[0;34m\u001b[0m\u001b[0m\n\u001b[1;32m    627\u001b[0m         \u001b[0mparams\u001b[0m\u001b[0;34m[\u001b[0m\u001b[0;34m'id'\u001b[0m\u001b[0;34m]\u001b[0m \u001b[0;34m=\u001b[0m \u001b[0mself\u001b[0m\u001b[0;34m.\u001b[0m\u001b[0m_id\u001b[0m\u001b[0;34m\u001b[0m\u001b[0m\n\u001b[0;32m--> 628\u001b[0;31m         \u001b[0;32mreturn\u001b[0m \u001b[0mself\u001b[0m\u001b[0;34m.\u001b[0m\u001b[0m_parent\u001b[0m\u001b[0;34m.\u001b[0m\u001b[0mexecute\u001b[0m\u001b[0;34m(\u001b[0m\u001b[0mcommand\u001b[0m\u001b[0;34m,\u001b[0m \u001b[0mparams\u001b[0m\u001b[0;34m)\u001b[0m\u001b[0;34m\u001b[0m\u001b[0m\n\u001b[0m\u001b[1;32m    629\u001b[0m \u001b[0;34m\u001b[0m\u001b[0m\n\u001b[1;32m    630\u001b[0m     \u001b[0;32mdef\u001b[0m \u001b[0mfind_element\u001b[0m\u001b[0;34m(\u001b[0m\u001b[0mself\u001b[0m\u001b[0;34m,\u001b[0m \u001b[0mby\u001b[0m\u001b[0;34m=\u001b[0m\u001b[0mBy\u001b[0m\u001b[0;34m.\u001b[0m\u001b[0mID\u001b[0m\u001b[0;34m,\u001b[0m \u001b[0mvalue\u001b[0m\u001b[0;34m=\u001b[0m\u001b[0;32mNone\u001b[0m\u001b[0;34m)\u001b[0m\u001b[0;34m:\u001b[0m\u001b[0;34m\u001b[0m\u001b[0m\n",
      "\u001b[0;32m~/anaconda3/lib/python3.6/site-packages/selenium/webdriver/remote/webdriver.py\u001b[0m in \u001b[0;36mexecute\u001b[0;34m(self, driver_command, params)\u001b[0m\n\u001b[1;32m    318\u001b[0m         \u001b[0mresponse\u001b[0m \u001b[0;34m=\u001b[0m \u001b[0mself\u001b[0m\u001b[0;34m.\u001b[0m\u001b[0mcommand_executor\u001b[0m\u001b[0;34m.\u001b[0m\u001b[0mexecute\u001b[0m\u001b[0;34m(\u001b[0m\u001b[0mdriver_command\u001b[0m\u001b[0;34m,\u001b[0m \u001b[0mparams\u001b[0m\u001b[0;34m)\u001b[0m\u001b[0;34m\u001b[0m\u001b[0m\n\u001b[1;32m    319\u001b[0m         \u001b[0;32mif\u001b[0m \u001b[0mresponse\u001b[0m\u001b[0;34m:\u001b[0m\u001b[0;34m\u001b[0m\u001b[0m\n\u001b[0;32m--> 320\u001b[0;31m             \u001b[0mself\u001b[0m\u001b[0;34m.\u001b[0m\u001b[0merror_handler\u001b[0m\u001b[0;34m.\u001b[0m\u001b[0mcheck_response\u001b[0m\u001b[0;34m(\u001b[0m\u001b[0mresponse\u001b[0m\u001b[0;34m)\u001b[0m\u001b[0;34m\u001b[0m\u001b[0m\n\u001b[0m\u001b[1;32m    321\u001b[0m             response['value'] = self._unwrap_value(\n\u001b[1;32m    322\u001b[0m                 response.get('value', None))\n",
      "\u001b[0;32m~/anaconda3/lib/python3.6/site-packages/selenium/webdriver/remote/errorhandler.py\u001b[0m in \u001b[0;36mcheck_response\u001b[0;34m(self, response)\u001b[0m\n\u001b[1;32m    240\u001b[0m                 \u001b[0malert_text\u001b[0m \u001b[0;34m=\u001b[0m \u001b[0mvalue\u001b[0m\u001b[0;34m[\u001b[0m\u001b[0;34m'alert'\u001b[0m\u001b[0;34m]\u001b[0m\u001b[0;34m.\u001b[0m\u001b[0mget\u001b[0m\u001b[0;34m(\u001b[0m\u001b[0;34m'text'\u001b[0m\u001b[0;34m)\u001b[0m\u001b[0;34m\u001b[0m\u001b[0m\n\u001b[1;32m    241\u001b[0m             \u001b[0;32mraise\u001b[0m \u001b[0mexception_class\u001b[0m\u001b[0;34m(\u001b[0m\u001b[0mmessage\u001b[0m\u001b[0;34m,\u001b[0m \u001b[0mscreen\u001b[0m\u001b[0;34m,\u001b[0m \u001b[0mstacktrace\u001b[0m\u001b[0;34m,\u001b[0m \u001b[0malert_text\u001b[0m\u001b[0;34m)\u001b[0m\u001b[0;34m\u001b[0m\u001b[0m\n\u001b[0;32m--> 242\u001b[0;31m         \u001b[0;32mraise\u001b[0m \u001b[0mexception_class\u001b[0m\u001b[0;34m(\u001b[0m\u001b[0mmessage\u001b[0m\u001b[0;34m,\u001b[0m \u001b[0mscreen\u001b[0m\u001b[0;34m,\u001b[0m \u001b[0mstacktrace\u001b[0m\u001b[0;34m)\u001b[0m\u001b[0;34m\u001b[0m\u001b[0m\n\u001b[0m\u001b[1;32m    243\u001b[0m \u001b[0;34m\u001b[0m\u001b[0m\n\u001b[1;32m    244\u001b[0m     \u001b[0;32mdef\u001b[0m \u001b[0m_value_or_default\u001b[0m\u001b[0;34m(\u001b[0m\u001b[0mself\u001b[0m\u001b[0;34m,\u001b[0m \u001b[0mobj\u001b[0m\u001b[0;34m,\u001b[0m \u001b[0mkey\u001b[0m\u001b[0;34m,\u001b[0m \u001b[0mdefault\u001b[0m\u001b[0;34m)\u001b[0m\u001b[0;34m:\u001b[0m\u001b[0;34m\u001b[0m\u001b[0m\n",
      "\u001b[0;31mWebDriverException\u001b[0m: Message: unknown error: Element <span class=\"ui-selectmenu-icon ui-icon btn-primary btn-icon ico-navigate-down flexDisplay flexAlignCenter flexJustifyCenter\"></span> is not clickable at point (181, 407). Other element would receive the click: <html lang=\"en_US\">...</html>\n  (Session info: chrome=68.0.3440.106)\n  (Driver info: chromedriver=2.41.578706 (5f725d1b4f0a4acbf5259df887244095596231db),platform=Mac OS X 10.13.4 x86_64)\n"
     ]
    }
   ],
   "source": [
    "#SCOPUS\n",
    "\n",
    "#Se abre la página de SINAB, se hace visible a través de ChromeDriver y se espera hasta que se carguen los elementos por completo.\n",
    "pagina = webdriver.Chrome(r\"/Applications/chromedriver\")\n",
    "pagina.get(\"https://login.ezproxy.unal.edu.co/login?url=https://www.scopus.com/results/results.uri?sort=plf-f&src=s&sid=02019aebd600d4583c56339c9a68afaa&sot=a&sdt=a&sl=23&s=SOURCE-ID+%2812600154771%29&origin=sourceinfo&zone=CSCYpreview&txGid=e19dfeb01248ac0a4f988644499ba4cd\")\n",
    "espera = WebDriverWait(pagina,20)\n",
    "success = False\n",
    "\n",
    "#Se ingresan los datos del usuario para acceder a la página principal de Scopus.\n",
    "while not success:\n",
    "    try:\n",
    "        #Se encuentran los elementos de la página web en donde se ponen el usuario y la contraseña.\n",
    "        usuario = pagina.find_element_by_name(\"user\");contraseña = pagina.find_element_by_name(\"pass\")\n",
    "        \n",
    "        #Se ponen los datos del usuario en los campos encontrados y se da click en el botón de 'Login'\n",
    "        usuario.send_keys(username);contraseña.send_keys(password)\n",
    "        login_attempt = espera.until(EC.presence_of_element_located((By.XPATH, \"/html/body/div[1]/form/input[2]\")))\n",
    "        login_attempt.submit() \n",
    "\n",
    "        success = True\n",
    "        \n",
    "    #A continuación se redirecciona en caso de que el tiempo de espera por la página se exceda.\n",
    "    except TimeoutException:\n",
    "        pagina.get(\"https://login.ezproxy.unal.edu.co/login?url=https://www.scopus.com/results/results.uri?sort=plf-f&src=s&sid=02019aebd600d4583c56339c9a68afaa&sot=a&sdt=a&sl=23&s=SOURCE-ID+%2812600154771%29&origin=sourceinfo&zone=CSCYpreview&txGid=e19dfeb01248ac0a4f988644499ba4cd\")\n",
    "    \n",
    "    #Se lee archivo CSV como una tabla de Pandas que contiene el AuthorID de los profesores.\n",
    "    file_scopus = pd.read_csv('Scopus.txt',  sep = ',', header=0)\n",
    "    \n",
    "    \n",
    "    general_scopus = []\n",
    "    for i in range(0,len(file_scopus)):\n",
    "        #Se encuentra el AuthorID del profesor en la posición i.\n",
    "        word = file_scopus.iloc[i,0]  \n",
    "        pagina.get('https://www-scopus-com.ezproxy.unal.edu.co/authid/detail.uri?authorId='+str(word)+'')\n",
    "        \n",
    "        #Se para el código por 3 segundos mientras carga el contenido de la página.\n",
    "        time.sleep(3)\n",
    "        \n",
    "        #Se pasa de 20 publicaciones a 200 por página para leer solo el contenido de una URL y no tener que iterar sobre\n",
    "        #las páginas\n",
    "        objeto = espera.until(EC.element_to_be_clickable((By.XPATH,'//*[@id=\"resultsPerPage-button\"]/span[1]')))\n",
    "        objeto.click()\n",
    "        objeto = espera.until(EC.element_to_be_clickable((By.XPATH,'//*[@id=\"ui-id-12\"]')))\n",
    "        time.sleep(10)\n",
    "        objeto.click()\n",
    "    \n",
    "        #Se extrae el número de publicaciones que tiene el profesor en total.\n",
    "        numero = espera.until(EC.visibility_of_element_located((By.XPATH,'//*[@id=\"authorDetailsDocumentsByAuthor\"]/div/div[2]/span'))).text\n",
    "\n",
    "        profe_scopus= []\n",
    "        for i in range(int(numero)):\n",
    "            temp = []\n",
    "            #De acuerdo con la estructura del XPath que contiene el nombre del artículo y el año de publicación, se itera\n",
    "            #sobre él para obtener todos los posibles de acuerdo con el número total de publicaciones.\n",
    "            articulo_scopus = espera.until(EC.visibility_of_element_located((By.XPATH,'//*[@id=\"resultDataRow'+str(i)+'\"]/td[1]/a'))).text\n",
    "            articulo = articulo_scopus.lower()\n",
    "            time.sleep(3)\n",
    "            año_scopus = espera.until(EC.visibility_of_element_located((By.XPATH,'//*[@id=\"resultDataRow'+str(i)+'\"]/td[3]'))).text\n",
    "            temp.append(articulo);temp.append(año_scopus);profe_scopus.append(temp)\n",
    "        general_scopus.append(profe_scopus)\n",
    "\n",
    "#Se almacena la información del profesor Juan David Velasquez Henao como una tabla de pandas.        \n",
    "JDV_Scopus = pd.DataFrame(general_scopus[0],columns=[\"Artículo\",\"Año\"])"
   ]
  },
  {
   "cell_type": "code",
   "execution_count": null,
   "metadata": {},
   "outputs": [],
   "source": [
    "JDV_Scopus"
   ]
  },
  {
   "cell_type": "markdown",
   "metadata": {},
   "source": [
    "---"
   ]
  },
  {
   "cell_type": "code",
   "execution_count": null,
   "metadata": {},
   "outputs": [],
   "source": [
    "#RESEARCH_GATE\n",
    "#Es necesario obtener usuario y contraseña para hacer busquedas y/o modificar las URL y obtener información de valor.\n",
    "username = input('Ingrese su correo: ')\n",
    "password = input('Ingrese su contraseña: ')\n",
    "\n",
    "#Se ingresa a la página principal \n",
    "pagina = webdriver.Chrome(r\"C:\\Users\\Area\\Desktop\\M4\\chromedriver.exe\")\n",
    "pagina.get(\"https://www.researchgate.net/login\")\n",
    "espera = WebDriverWait(pagina, 20)\n",
    "\n",
    "#Se ingresan los datos de usuario y contraseña\n",
    "success = False\n",
    "while not success:\n",
    "    try:\n",
    "        usuario = pagina.find_element_by_xpath('//*[@id=\"input-login\"]');contraseña = pagina.find_element_by_xpath('//*[@id=\"input-password\"]')\n",
    "        usuario.send_keys(username);contraseña.send_keys(password)\n",
    "\n",
    "        obj_clickable = espera.until(EC.element_to_be_clickable((By.CLASS_NAME,'nova-c-button__label')))\n",
    "        obj_clickable.click()\n",
    "        success = True\n",
    "\n",
    "    except TimeoutException:\n",
    "        pagina.get(\"https://www.researchgate.net/login\")\n",
    "        \n",
    "    \n",
    "    #Se lee archivo TXT como una tabla de Pandas que contiene el usuario asociado a cada perfil(URL)\n",
    "    file_RGate = pd.read_csv('ResearchGate.txt',  sep = ',', header=0);general_RGate = []\n",
    "    \n",
    "    #Se itera sobre los perfiles \n",
    "    for i in range(0,len(file_RGate)):\n",
    "        profe_RGate = [];word = file_RGate.iloc[i,0] \n",
    "        #Se itera sobre las páginas del perfil correspondiente.\n",
    "        for k in range(1,8):\n",
    "            pagina.get('https://www.researchgate.net/profile/'+str(word)+'/publications?sorting=newest&page='+str(k)+'')\n",
    "            time.sleep(2)\n",
    "            y = pagina.find_elements_by_class_name('nova-v-publication-item__stack-item')\n",
    "            for j in range(0,len(y),3):\n",
    "                temp = [];articulo = y[j].text;articulo_RGate= articulo.lower();año_RGate = y[j+1].text\n",
    "                tipo = año_RGate.split(\"\\n\")[0]\n",
    "                temp.append(articulo_RGate);temp.append(tipo);profe_RGate.append(temp)\n",
    "        general_RGate.append(profe_RGate)\n",
    "        \n",
    "#Se almacena la información del profesor Juan David Velasquez Henao como una tabla de pandas. \n",
    "JDV_RGate = pd.DataFrame(general_RGate[0],columns=[\"Artículo\",\"Tipo\"])"
   ]
  },
  {
   "cell_type": "code",
   "execution_count": null,
   "metadata": {},
   "outputs": [],
   "source": [
    "#CvLAC\n",
    "#Para acceder al perfil de los profesores no es necesario acceder a una cuenta.\n",
    "pagina = webdriver.Chrome(r\"C:\\Users\\Area\\Desktop\\M4\\chromedriver.exe\")\n",
    "espera = WebDriverWait(pagina,20)\n",
    "\n",
    "#Se lee archivo TXT como una tabla de Pandas que contiene el códigoID asociado a cada perfil(URL), es decir, este identificador\n",
    "#es único para cada perfil y se encuentra al final de la URL del perfil.\n",
    "file = open('CvLAC.txt', 'r').readlines()\n",
    "x = [z.replace('\\n', '') for z in file]\n",
    "\n",
    "general=[]\n",
    "#Se itera sobre cada perfil.\n",
    "for j in range(len(file)):\n",
    "    profe= []\n",
    "    gg = 'http://scienti.colciencias.gov.co:8081/cvlac/visualizador/generarCurriculoCv.do?cod_rh='\n",
    "    pagina.get(gg+x[j])\n",
    "    o = pagina.find_element_by_xpath('/html/body/div/div[3]/table/tbody/tr[30]/td/table').text\n",
    "    #La información de las publicaciones se encuentran en un bloque de texto, por lo tanto es necesario modificarlo para obtener\n",
    "    #los datos que se necesitan\n",
    "    xx = o.split('Artículo');y = [i.split('\"') for i in xx]\n",
    "    \n",
    "    for f in range(2,len(y)):\n",
    "        uno = []\n",
    "        articulo1 = y[f][1]; articulo= articulo1.lower()\n",
    "        año = y[f][2].split(\",\")[1]\n",
    "        uno.append(articulo); uno.append(año);profe.append(uno)\n",
    "    general.append(profe)\n",
    "    \n",
    "#Se almacena la información del profesor Juan David Velasquez Henao como una tabla de pandas.    \n",
    "JDV_CV = pd.DataFrame(general[0],columns=[\"Artículo\",\"Año\"])"
   ]
  },
  {
   "cell_type": "code",
   "execution_count": null,
   "metadata": {},
   "outputs": [],
   "source": [
    "#Teniendo en cuenta la información del profesor Juan David Velasquez Henao, se busca crear una lista de publicaciones única \n",
    "#que contenga los artículo y el año de publicación.\n",
    "\n",
    "#Se filtran SOLO los artículos de la lista en ResearchGate\n",
    "y = JDV_RGate.groupby('Tipo')\n",
    "y.groups.keys()\n",
    "\n",
    "#Se comparan las tres tablas para encontrar los registros únicos.\n",
    "g = pd.merge(JDV_Scopus,JDV_RGate.loc[y.groups['Article']], how='right', on=['Artículo'])\n",
    "Table = pd.merge(g,JDV_CV, how='right', on=['Artículo'])\n",
    "\n",
    "#Se eliminan registros duplicados.\n",
    "Table_2= Table.drop_duplicates()\n",
    "\n",
    "Table_2"
   ]
  },
  {
   "cell_type": "code",
   "execution_count": null,
   "metadata": {},
   "outputs": [],
   "source": []
  },
  {
   "cell_type": "code",
   "execution_count": null,
   "metadata": {},
   "outputs": [],
   "source": []
  },
  {
   "cell_type": "code",
   "execution_count": null,
   "metadata": {},
   "outputs": [],
   "source": []
  },
  {
   "cell_type": "code",
   "execution_count": null,
   "metadata": {},
   "outputs": [],
   "source": []
  },
  {
   "cell_type": "code",
   "execution_count": null,
   "metadata": {},
   "outputs": [],
   "source": []
  },
  {
   "cell_type": "code",
   "execution_count": null,
   "metadata": {},
   "outputs": [],
   "source": []
  },
  {
   "cell_type": "code",
   "execution_count": null,
   "metadata": {},
   "outputs": [],
   "source": []
  },
  {
   "cell_type": "code",
   "execution_count": null,
   "metadata": {},
   "outputs": [],
   "source": []
  },
  {
   "cell_type": "code",
   "execution_count": null,
   "metadata": {},
   "outputs": [],
   "source": []
  },
  {
   "cell_type": "code",
   "execution_count": null,
   "metadata": {},
   "outputs": [],
   "source": []
  },
  {
   "cell_type": "code",
   "execution_count": 5,
   "metadata": {},
   "outputs": [],
   "source": [
    "#Datos para logearse a través de la plataforma SINAB hacia Scopus.\n",
    "username = 'vavasquezhe'\n",
    "password = '2ooRIQRBfdvv'"
   ]
  },
  {
   "cell_type": "code",
   "execution_count": null,
   "metadata": {},
   "outputs": [],
   "source": []
  }
 ],
 "metadata": {
  "kernelspec": {
   "display_name": "Python 3",
   "language": "python",
   "name": "python3"
  },
  "language_info": {
   "codemirror_mode": {
    "name": "ipython",
    "version": 3
   },
   "file_extension": ".py",
   "mimetype": "text/x-python",
   "name": "python",
   "nbconvert_exporter": "python",
   "pygments_lexer": "ipython3",
   "version": "3.6.5"
  }
 },
 "nbformat": 4,
 "nbformat_minor": 2
}
