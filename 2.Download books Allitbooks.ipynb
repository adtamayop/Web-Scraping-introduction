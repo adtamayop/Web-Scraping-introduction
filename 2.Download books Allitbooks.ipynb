{
 "cells": [
  {
   "cell_type": "markdown",
   "metadata": {},
   "source": [
    "# Web Scraping"
   ]
  },
  {
   "cell_type": "markdown",
   "metadata": {},
   "source": [
    "Se refiere a la extracción automática de información de sitios web a través de la lectura del código HTML. \n",
    "\n",
    "En Python, actualmente las librerías más populares para automatizar la tarea son:\n",
    "\n",
    "> **BeautifulSoup from bs4**: Función que permite extraer HTML a través de arboles.\n",
    "\n",
    "> **Selenium**: Librería especializada en pruebas de software en la web."
   ]
  },
  {
   "cell_type": "markdown",
   "metadata": {},
   "source": [
    "## **Ejemplo.**\n",
    "Descargue al directorio actual todos los libros, que no se encuentren actualmente en el disco, contenidos en las 10 primeras páginas principales del sitio `All IT eBooks` y que a la vez contengan las palabras `'Android', 'Learning'`."
   ]
  },
  {
   "cell_type": "markdown",
   "metadata": {},
   "source": [
    "### `BeautifulSoup`"
   ]
  },
  {
   "cell_type": "code",
   "execution_count": 11,
   "metadata": {},
   "outputs": [],
   "source": [
    "#Lista con palabras a tener en cuenta para la busqueda de libros\n",
    "data = ['Android', 'Learning']"
   ]
  },
  {
   "cell_type": "code",
   "execution_count": 12,
   "metadata": {},
   "outputs": [],
   "source": [
    "#Librerías requeridas\n",
    "from bs4 import BeautifulSoup\n",
    "import requests #permite obtener URls\n",
    "import urllib #Procesar URL\n",
    "import re #Regular Expressions\n",
    "import urllib.request \n",
    "import glob #lista de archivos en el directorio\n",
    "import pandas as pd "
   ]
  },
  {
   "cell_type": "code",
   "execution_count": 13,
   "metadata": {},
   "outputs": [],
   "source": [
    "df=[] #Crea lista vacía\n",
    "\n",
    "for i in range(1,2): #De 1 a 2 que son las páginas de interés\n",
    "    r = \"http://www.allitebooks.com/page/\"+str(i)+\"/\" #Crear las URL para cada página con el patrón URL\n",
    "    page  = BeautifulSoup(requests.get(r).text, 'lxml') \n",
    "    \n",
    "    for link in page.select(\"article a\"): #Selecciona la clase\n",
    "        a = str(link.get('href')) #Con la clase 'href'\n",
    "        df.append(a) #Pega en una lista"
   ]
  },
  {
   "cell_type": "code",
   "execution_count": 14,
   "metadata": {},
   "outputs": [
    {
     "data": {
      "text/plain": [
       "['http://www.allitebooks.com/professional-android-4th-edition/',\n",
       " 'http://www.allitebooks.com/professional-android-4th-edition/',\n",
       " 'http://www.allitebooks.com/author/ian-lake/',\n",
       " 'http://www.allitebooks.com/author/reto-meier/',\n",
       " 'http://www.allitebooks.com/deep-learning-with-azure/',\n",
       " 'http://www.allitebooks.com/deep-learning-with-azure/',\n",
       " 'http://www.allitebooks.com/author/danielle-dean/',\n",
       " 'http://www.allitebooks.com/author/mathew-salvaris/',\n",
       " 'http://www.allitebooks.com/author/wee-hyong-tok/',\n",
       " 'http://www.allitebooks.com/getting-started-with-react/',\n",
       " 'http://www.allitebooks.com/getting-started-with-react/',\n",
       " 'http://www.allitebooks.com/author/danillo-corvalan/',\n",
       " 'http://www.allitebooks.com/author/doel-sengupta/',\n",
       " 'http://www.allitebooks.com/author/manu-singhal/',\n",
       " 'http://www.allitebooks.com/kafka-streams-in-action/',\n",
       " 'http://www.allitebooks.com/kafka-streams-in-action/',\n",
       " 'http://www.allitebooks.com/author/bill-bejeck/',\n",
       " 'http://www.allitebooks.com/firewalls-dont-stop-dragons-3rd-edition/',\n",
       " 'http://www.allitebooks.com/firewalls-dont-stop-dragons-3rd-edition/',\n",
       " 'http://www.allitebooks.com/author/carey-parker/',\n",
       " 'http://www.allitebooks.com/microsoft-biztalk-server-70-595-certification-and-assessment-guide-second-edition/',\n",
       " 'http://www.allitebooks.com/microsoft-biztalk-server-70-595-certification-and-assessment-guide-second-edition/',\n",
       " 'http://www.allitebooks.com/author/johan-hedberg/',\n",
       " 'http://www.allitebooks.com/author/kent-weare/',\n",
       " 'http://www.allitebooks.com/author/morten-la-cour/',\n",
       " 'http://www.allitebooks.com/asynchronous-android/',\n",
       " 'http://www.allitebooks.com/asynchronous-android/',\n",
       " 'http://www.allitebooks.com/author/steve-liles/',\n",
       " 'http://www.allitebooks.com/practical-video-game-bots/',\n",
       " 'http://www.allitebooks.com/practical-video-game-bots/',\n",
       " 'http://www.allitebooks.com/author/ilya-shpigor/',\n",
       " 'http://www.allitebooks.com/coding-all-in-one-for-dummies/',\n",
       " 'http://www.allitebooks.com/coding-all-in-one-for-dummies/',\n",
       " 'http://www.allitebooks.com/author/nikhil-abraham/',\n",
       " 'http://www.allitebooks.com/beginning-office-365-collaboration-apps/',\n",
       " 'http://www.allitebooks.com/beginning-office-365-collaboration-apps/',\n",
       " 'http://www.allitebooks.com/author/ralph-mercurio/']"
      ]
     },
     "execution_count": 14,
     "metadata": {},
     "output_type": "execute_result"
    }
   ],
   "source": [
    "df"
   ]
  },
  {
   "cell_type": "code",
   "execution_count": 15,
   "metadata": {},
   "outputs": [
    {
     "data": {
      "text/html": [
       "<div>\n",
       "<style scoped>\n",
       "    .dataframe tbody tr th:only-of-type {\n",
       "        vertical-align: middle;\n",
       "    }\n",
       "\n",
       "    .dataframe tbody tr th {\n",
       "        vertical-align: top;\n",
       "    }\n",
       "\n",
       "    .dataframe thead th {\n",
       "        text-align: right;\n",
       "    }\n",
       "</style>\n",
       "<table border=\"1\" class=\"dataframe\">\n",
       "  <thead>\n",
       "    <tr style=\"text-align: right;\">\n",
       "      <th></th>\n",
       "      <th>link</th>\n",
       "    </tr>\n",
       "  </thead>\n",
       "  <tbody>\n",
       "    <tr>\n",
       "      <th>0</th>\n",
       "      <td>http://www.allitebooks.com/professional-androi...</td>\n",
       "    </tr>\n",
       "    <tr>\n",
       "      <th>4</th>\n",
       "      <td>http://www.allitebooks.com/deep-learning-with-...</td>\n",
       "    </tr>\n",
       "    <tr>\n",
       "      <th>9</th>\n",
       "      <td>http://www.allitebooks.com/getting-started-wit...</td>\n",
       "    </tr>\n",
       "    <tr>\n",
       "      <th>14</th>\n",
       "      <td>http://www.allitebooks.com/kafka-streams-in-ac...</td>\n",
       "    </tr>\n",
       "    <tr>\n",
       "      <th>17</th>\n",
       "      <td>http://www.allitebooks.com/firewalls-dont-stop...</td>\n",
       "    </tr>\n",
       "    <tr>\n",
       "      <th>20</th>\n",
       "      <td>http://www.allitebooks.com/microsoft-biztalk-s...</td>\n",
       "    </tr>\n",
       "    <tr>\n",
       "      <th>25</th>\n",
       "      <td>http://www.allitebooks.com/asynchronous-android/</td>\n",
       "    </tr>\n",
       "    <tr>\n",
       "      <th>28</th>\n",
       "      <td>http://www.allitebooks.com/practical-video-gam...</td>\n",
       "    </tr>\n",
       "    <tr>\n",
       "      <th>31</th>\n",
       "      <td>http://www.allitebooks.com/coding-all-in-one-f...</td>\n",
       "    </tr>\n",
       "    <tr>\n",
       "      <th>34</th>\n",
       "      <td>http://www.allitebooks.com/beginning-office-36...</td>\n",
       "    </tr>\n",
       "  </tbody>\n",
       "</table>\n",
       "</div>"
      ],
      "text/plain": [
       "                                                 link\n",
       "0   http://www.allitebooks.com/professional-androi...\n",
       "4   http://www.allitebooks.com/deep-learning-with-...\n",
       "9   http://www.allitebooks.com/getting-started-wit...\n",
       "14  http://www.allitebooks.com/kafka-streams-in-ac...\n",
       "17  http://www.allitebooks.com/firewalls-dont-stop...\n",
       "20  http://www.allitebooks.com/microsoft-biztalk-s...\n",
       "25   http://www.allitebooks.com/asynchronous-android/\n",
       "28  http://www.allitebooks.com/practical-video-gam...\n",
       "31  http://www.allitebooks.com/coding-all-in-one-f...\n",
       "34  http://www.allitebooks.com/beginning-office-36..."
      ]
     },
     "execution_count": 15,
     "metadata": {},
     "output_type": "execute_result"
    }
   ],
   "source": [
    "data2 = pd.DataFrame(data=df, columns = ['link']) #Pega los datos a un DataFrame de Pandas\n",
    "data_link = data2[data2.link.str.contains(\"author\") == False].drop_duplicates() #Elimina todo lo que contega author \n",
    "data_link"
   ]
  },
  {
   "cell_type": "code",
   "execution_count": 16,
   "metadata": {},
   "outputs": [
    {
     "data": {
      "text/plain": [
       "[]"
      ]
     },
     "execution_count": 16,
     "metadata": {},
     "output_type": "execute_result"
    }
   ],
   "source": [
    "file_ = [] \n",
    "for file2 in glob.iglob('*.pdf'): #Crea una lista con todos los archivos PDF que se encuentren en el directorio\n",
    "    file_.append(file2)\n",
    "file_"
   ]
  },
  {
   "cell_type": "code",
   "execution_count": 17,
   "metadata": {},
   "outputs": [
    {
     "name": "stdout",
     "output_type": "stream",
     "text": [
      "<a href=\"http://file.allitebooks.com/20180831/Professional Android, 4th Edition.pdf\" target=\"_blank\"><i aria-hidden=\"true\" class=\"fa fa-download\"></i> Download PDF <span class=\"download-size\">(18.7 MB)</span></a>\n",
      "0\n",
      "<a href=\"http://file.allitebooks.com/20180827/Deep Learning with Azure.pdf\" target=\"_blank\"><i aria-hidden=\"true\" class=\"fa fa-download\"></i> Download PDF <span class=\"download-size\">(7.6 MB)</span></a>\n",
      "0\n",
      "<a href=\"http://file.allitebooks.com/20180827/Deep Learning with Azure.epub\" target=\"_blank\"><i aria-hidden=\"true\" class=\"fa fa-book\"></i> Download ePub <span class=\"download-size\">(8.6 MB)</span></a>\n",
      "0\n",
      "<a href=\"http://file.allitebooks.com/20180830/Getting Started with React.pdf\" target=\"_blank\"><i aria-hidden=\"true\" class=\"fa fa-download\"></i> Download PDF <span class=\"download-size\">(15.1 MB)</span></a>\n",
      "<a href=\"http://file.allitebooks.com/20180830/Kafka Streams in Action.pdf\" target=\"_blank\"><i aria-hidden=\"true\" class=\"fa fa-download\"></i> Download PDF <span class=\"download-size\">(15.6 MB)</span></a>\n",
      "<a href=\"http://file.allitebooks.com/20180827/Firewalls Don't Stop Dragons, 3rd Edition.pdf\" target=\"_blank\"><i aria-hidden=\"true\" class=\"fa fa-download\"></i> Download PDF <span class=\"download-size\">(17.1 MB)</span></a>\n",
      "<a href=\"http://file.allitebooks.com/20180827/Firewalls Don't Stop Dragons, 3rd Edition.epub\" target=\"_blank\"><i aria-hidden=\"true\" class=\"fa fa-book\"></i> Download ePub <span class=\"download-size\">(15.1 MB)</span></a>\n",
      "<a href=\"http://file.allitebooks.com/20180827/Microsoft BizTalk Server (70-595) Certification and Assessment Guide, Second Edition.pdf\" target=\"_blank\"><i aria-hidden=\"true\" class=\"fa fa-download\"></i> Download PDF <span class=\"download-size\">(10.8 MB)</span></a>\n",
      "<a href=\"http://file.allitebooks.com/20180827/Microsoft BizTalk Server (70-595) Certification and Assessment Guide, Second Edition.epub\" target=\"_blank\"><i aria-hidden=\"true\" class=\"fa fa-book\"></i> Download ePub <span class=\"download-size\">(31.6 MB)</span></a>\n",
      "<a href=\"http://file.allitebooks.com/20180827/Asynchronous Android.pdf\" target=\"_blank\"><i aria-hidden=\"true\" class=\"fa fa-download\"></i> Download PDF <span class=\"download-size\">(1.4 MB)</span></a>\n",
      "0\n",
      "<a href=\"http://file.allitebooks.com/20180827/Asynchronous Android.epub\" target=\"_blank\"><i aria-hidden=\"true\" class=\"fa fa-book\"></i> Download ePub <span class=\"download-size\">(0.8 MB)</span></a>\n",
      "0\n",
      "<a href=\"http://file.allitebooks.com/20180826/Practical Video Game Bots.pdf\" target=\"_blank\"><i aria-hidden=\"true\" class=\"fa fa-download\"></i> Download PDF <span class=\"download-size\">(11.9 MB)</span></a>\n",
      "<a href=\"http://file.allitebooks.com/20180826/Practical Video Game Bots.epub\" target=\"_blank\"><i aria-hidden=\"true\" class=\"fa fa-book\"></i> Download ePub <span class=\"download-size\">(13.5 MB)</span></a>\n",
      "<a href=\"http://file.allitebooks.com/20180826/Coding All-in-One For Dummies.pdf\" target=\"_blank\"><i aria-hidden=\"true\" class=\"fa fa-download\"></i> Download PDF <span class=\"download-size\">(34.3 MB)</span></a>\n",
      "<a href=\"http://file.allitebooks.com/20180826/Beginning Office 365 Collaboration Apps.pdf\" target=\"_blank\"><i aria-hidden=\"true\" class=\"fa fa-download\"></i> Download PDF <span class=\"download-size\">(12.9 MB)</span></a>\n",
      "<a href=\"http://file.allitebooks.com/20180826/Beginning Office 365 Collaboration Apps.epub\" target=\"_blank\"><i aria-hidden=\"true\" class=\"fa fa-book\"></i> Download ePub <span class=\"download-size\">(18.2 MB)</span></a>\n"
     ]
    }
   ],
   "source": [
    "download = []\n",
    "\n",
    "for index, row in data_link.iterrows(): #Iterar sobre todas las lineas\n",
    "    \n",
    "    page2  = BeautifulSoup(requests.get(row[0]).text, \"lxml\") #Abre la página de descarga de cada libro\n",
    "    \n",
    "    for k in page2.select(\"span a\"):\n",
    "        print(k)\n",
    "        file_name = str(k.get('href')).split('/')[-1]\n",
    "        f = re.sub(r'[^\\w\\s]',' ',file_name);no = []\n",
    "        no.append(file_name)\n",
    "        \n",
    "        if len(list(set(f.split(' ')) & set(data))) >= 1 and len(list(set(file_) & set(no))) < 1 :\n",
    "            print(0)\n",
    "            urllib.request.urlretrieve(str(k.get('href')), file_name)"
   ]
  },
  {
   "cell_type": "code",
   "execution_count": 18,
   "metadata": {},
   "outputs": [
    {
     "name": "stdout",
     "output_type": "stream",
     "text": [
      "Beginning Office 365 Collaboration Apps.epub\n",
      "Beginning Office 365 Collaboration Apps epub\n",
      "['Beginning Office 365 Collaboration Apps.epub']\n"
     ]
    }
   ],
   "source": [
    "print(file_name)\n",
    "print(f)\n",
    "print(no)"
   ]
  },
  {
   "cell_type": "markdown",
   "metadata": {},
   "source": [
    "---"
   ]
  }
 ],
 "metadata": {
  "kernelspec": {
   "display_name": "Python 3",
   "language": "python",
   "name": "python3"
  },
  "language_info": {
   "codemirror_mode": {
    "name": "ipython",
    "version": 3
   },
   "file_extension": ".py",
   "mimetype": "text/x-python",
   "name": "python",
   "nbconvert_exporter": "python",
   "pygments_lexer": "ipython3",
   "version": "3.6.5"
  }
 },
 "nbformat": 4,
 "nbformat_minor": 2
}
